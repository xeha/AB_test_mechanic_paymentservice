{
 "cells": [
  {
   "cell_type": "markdown",
   "metadata": {},
   "source": [
    "# A/B тестирование оплаты услуг на сайте"
   ]
  },
  {
   "cell_type": "markdown",
   "metadata": {},
   "source": [
    "### 1. Подготовка к работе"
   ]
  },
  {
   "cell_type": "code",
   "execution_count": 90,
   "metadata": {},
   "outputs": [],
   "source": [
    "# Подгружаем библиотеки\n",
    "\n",
    "import pandas as pd\n",
    "import requests\n",
    "from urllib.parse import urlencode\n",
    "import numpy as np\n",
    "from sklearn.preprocessing import OneHotEncoder as SklearnOneHotEncoder\n",
    "from statsmodels.regression.linear_model import OLS\n",
    "from tqdm.auto import tqdm\n",
    "import pingouin as pg\n",
    "import pandahouse as ph\n",
    "import matplotlib.pyplot as plt\n",
    "import seaborn as sns\n",
    "import scipy\n",
    "from scipy import stats\n",
    "\n",
    "from utils import download_data"
   ]
  },
  {
   "cell_type": "code",
   "execution_count": 91,
   "metadata": {},
   "outputs": [],
   "source": [
    "# Подготавливаем общие настройки для графиков\n",
    "\n",
    "sns.set(\n",
    "    rc={\n",
    "        \"figure.figsize\": (12, 8), #размер графика - 12 дюймов в ширину, 8 в длину\n",
    "        \"axes.titlesize\": 20, #размер заголовка \n",
    "        \"axes.labelsize\": 14, #размер подписей осей\n",
    "        \"xtick.labelsize\": 13, #размер подписей чёрточек на x-оси\n",
    "        \"ytick.labelsize\": 13, #размер подписей чёрточек на y-оси\n",
    "    }\n",
    ")\n",
    "\n",
    "sns.set_style(\"whitegrid\") #тема фона, белая со штриховкой\n",
    "\n",
    "%matplotlib inline \n",
    "#масштабируемые диаграммы"
   ]
  },
  {
   "attachments": {},
   "cell_type": "markdown",
   "metadata": {},
   "source": [
    "#### 2. Загрузка данных\n",
    "\n",
    "2.1. В таблице  **groups.csv** имеется следующая информация:\n",
    "* идентификатор пользователя (id)\n",
    "* группа пользователя (grp) "
   ]
  },
  {
   "cell_type": "code",
   "execution_count": 92,
   "metadata": {},
   "outputs": [],
   "source": [
    "# Получаем таблицу с группами\n",
    "groups_df = download_data(\n",
    "    base_url='https://cloud-api.yandex.net/v1/disk/public/resources/download?',\n",
    "    public_key='https://disk.yandex.ru/d/hmRKKZTCIr3gnQ',\n",
    "    separ=';'\n",
    ")"
   ]
  },
  {
   "cell_type": "markdown",
   "metadata": {},
   "source": [
    "2.2. Подгружаем дополнительный файл по группам **groups_add.csv** . Структура аналогична groups.csv"
   ]
  },
  {
   "cell_type": "code",
   "execution_count": 93,
   "metadata": {},
   "outputs": [],
   "source": [
    "# Получаем доп.таблицу с группами\n",
    "\n",
    "groups_add_df = download_data(\n",
    "    base_url='https://cloud-api.yandex.net/v1/disk/public/resources/download?',\n",
    "    public_key='https://disk.yandex.ru/d/mV20xzm72xuyRg',\n",
    "    separ=','\n",
    ")"
   ]
  },
  {
   "cell_type": "markdown",
   "metadata": {},
   "source": [
    "2.3. Подгружаем таблицу с информацией о пользователях, которые зашли на платформу в дни проведения эксперимента **active_studs.csv** . В ней находятся только id пользователей."
   ]
  },
  {
   "cell_type": "code",
   "execution_count": 94,
   "metadata": {},
   "outputs": [],
   "source": [
    "# Получаем файл с информацией о пользователях, которые зашли на платформу в дни проведения эксперимента.\n",
    "active_studs_df = download_data(\n",
    "    base_url='https://cloud-api.yandex.net/v1/disk/public/resources/download?',\n",
    "    public_key='https://disk.yandex.ru/d/zgR4vE7CwF8RnA',\n",
    "    separ=','\n",
    ")"
   ]
  },
  {
   "cell_type": "markdown",
   "metadata": {},
   "source": [
    "2.4. Подгружаем таблицу с информацией об оплатах пользователей в дни проведения эксперимента **checks.csv** . В ней следующая информация:\n",
    "* идентификатор пользователя (student_id);\n",
    "* доход (rev)"
   ]
  },
  {
   "cell_type": "code",
   "execution_count": 95,
   "metadata": {},
   "outputs": [],
   "source": [
    "# Получаем файл с информацией об оплатах пользователей в дни проведения эксперимента.\n",
    "checks_df = download_data(\n",
    "    base_url='https://cloud-api.yandex.net/v1/disk/public/resources/download?',\n",
    "    public_key='https://disk.yandex.ru/d/bZEXLmNevGJZeA',\n",
    "    separ=';'\n",
    ")"
   ]
  },
  {
   "cell_type": "markdown",
   "metadata": {},
   "source": [
    "### 3. Data Validation"
   ]
  },
  {
   "cell_type": "markdown",
   "metadata": {},
   "source": [
    "3.1. Проверим таблицы на null и узнаем типы данных"
   ]
  },
  {
   "cell_type": "code",
   "execution_count": 96,
   "metadata": {},
   "outputs": [
    {
     "name": "stdout",
     "output_type": "stream",
     "text": [
      "<class 'pandas.core.frame.DataFrame'>\n",
      "RangeIndex: 74484 entries, 0 to 74483\n",
      "Data columns (total 2 columns):\n",
      " #   Column  Non-Null Count  Dtype \n",
      "---  ------  --------------  ----- \n",
      " 0   id      74484 non-null  int64 \n",
      " 1   grp     74484 non-null  object\n",
      "dtypes: int64(1), object(1)\n",
      "memory usage: 1.1+ MB\n"
     ]
    }
   ],
   "source": [
    "groups_df.info()"
   ]
  },
  {
   "cell_type": "code",
   "execution_count": 97,
   "metadata": {},
   "outputs": [
    {
     "name": "stdout",
     "output_type": "stream",
     "text": [
      "<class 'pandas.core.frame.DataFrame'>\n",
      "RangeIndex: 92 entries, 0 to 91\n",
      "Data columns (total 2 columns):\n",
      " #   Column  Non-Null Count  Dtype \n",
      "---  ------  --------------  ----- \n",
      " 0   id      92 non-null     int64 \n",
      " 1   grp     92 non-null     object\n",
      "dtypes: int64(1), object(1)\n",
      "memory usage: 1.6+ KB\n"
     ]
    }
   ],
   "source": [
    "groups_add_df.info()"
   ]
  },
  {
   "cell_type": "code",
   "execution_count": 98,
   "metadata": {},
   "outputs": [
    {
     "name": "stdout",
     "output_type": "stream",
     "text": [
      "<class 'pandas.core.frame.DataFrame'>\n",
      "RangeIndex: 8341 entries, 0 to 8340\n",
      "Data columns (total 1 columns):\n",
      " #   Column      Non-Null Count  Dtype\n",
      "---  ------      --------------  -----\n",
      " 0   student_id  8341 non-null   int64\n",
      "dtypes: int64(1)\n",
      "memory usage: 65.3 KB\n"
     ]
    }
   ],
   "source": [
    "active_studs_df.info()"
   ]
  },
  {
   "cell_type": "code",
   "execution_count": 99,
   "metadata": {},
   "outputs": [
    {
     "data": {
      "text/html": [
       "<div>\n",
       "<style scoped>\n",
       "    .dataframe tbody tr th:only-of-type {\n",
       "        vertical-align: middle;\n",
       "    }\n",
       "\n",
       "    .dataframe tbody tr th {\n",
       "        vertical-align: top;\n",
       "    }\n",
       "\n",
       "    .dataframe thead th {\n",
       "        text-align: right;\n",
       "    }\n",
       "</style>\n",
       "<table border=\"1\" class=\"dataframe\">\n",
       "  <thead>\n",
       "    <tr style=\"text-align: right;\">\n",
       "      <th></th>\n",
       "      <th>student_id</th>\n",
       "    </tr>\n",
       "  </thead>\n",
       "  <tbody>\n",
       "  </tbody>\n",
       "</table>\n",
       "</div>"
      ],
      "text/plain": [
       "Empty DataFrame\n",
       "Columns: [student_id]\n",
       "Index: []"
      ]
     },
     "execution_count": 99,
     "metadata": {},
     "output_type": "execute_result"
    }
   ],
   "source": [
    "# Проверяем таблицу с участниками эксперимента на дубликаты\n",
    "active_studs_df.loc[active_studs_df.duplicated()]"
   ]
  },
  {
   "cell_type": "code",
   "execution_count": 100,
   "metadata": {},
   "outputs": [
    {
     "name": "stdout",
     "output_type": "stream",
     "text": [
      "<class 'pandas.core.frame.DataFrame'>\n",
      "RangeIndex: 541 entries, 0 to 540\n",
      "Data columns (total 2 columns):\n",
      " #   Column      Non-Null Count  Dtype  \n",
      "---  ------      --------------  -----  \n",
      " 0   student_id  541 non-null    int64  \n",
      " 1   rev         541 non-null    float64\n",
      "dtypes: float64(1), int64(1)\n",
      "memory usage: 8.6 KB\n"
     ]
    }
   ],
   "source": [
    "checks_df.info()"
   ]
  },
  {
   "cell_type": "code",
   "execution_count": 101,
   "metadata": {},
   "outputs": [
    {
     "data": {
      "text/html": [
       "<div>\n",
       "<style scoped>\n",
       "    .dataframe tbody tr th:only-of-type {\n",
       "        vertical-align: middle;\n",
       "    }\n",
       "\n",
       "    .dataframe tbody tr th {\n",
       "        vertical-align: top;\n",
       "    }\n",
       "\n",
       "    .dataframe thead th {\n",
       "        text-align: right;\n",
       "    }\n",
       "</style>\n",
       "<table border=\"1\" class=\"dataframe\">\n",
       "  <thead>\n",
       "    <tr style=\"text-align: right;\">\n",
       "      <th></th>\n",
       "      <th>student_id</th>\n",
       "      <th>rev</th>\n",
       "    </tr>\n",
       "  </thead>\n",
       "  <tbody>\n",
       "    <tr>\n",
       "      <th>count</th>\n",
       "      <td>5.410000e+02</td>\n",
       "      <td>541.000000</td>\n",
       "    </tr>\n",
       "    <tr>\n",
       "      <th>mean</th>\n",
       "      <td>2.514772e+06</td>\n",
       "      <td>1059.752317</td>\n",
       "    </tr>\n",
       "    <tr>\n",
       "      <th>std</th>\n",
       "      <td>1.726839e+06</td>\n",
       "      <td>762.712359</td>\n",
       "    </tr>\n",
       "    <tr>\n",
       "      <th>min</th>\n",
       "      <td>1.627000e+03</td>\n",
       "      <td>199.000000</td>\n",
       "    </tr>\n",
       "    <tr>\n",
       "      <th>25%</th>\n",
       "      <td>9.871290e+05</td>\n",
       "      <td>290.000000</td>\n",
       "    </tr>\n",
       "    <tr>\n",
       "      <th>50%</th>\n",
       "      <td>2.526021e+06</td>\n",
       "      <td>840.000000</td>\n",
       "    </tr>\n",
       "    <tr>\n",
       "      <th>75%</th>\n",
       "      <td>3.993249e+06</td>\n",
       "      <td>1900.000000</td>\n",
       "    </tr>\n",
       "    <tr>\n",
       "      <th>max</th>\n",
       "      <td>5.740903e+06</td>\n",
       "      <td>4650.000000</td>\n",
       "    </tr>\n",
       "  </tbody>\n",
       "</table>\n",
       "</div>"
      ],
      "text/plain": [
       "         student_id          rev\n",
       "count  5.410000e+02   541.000000\n",
       "mean   2.514772e+06  1059.752317\n",
       "std    1.726839e+06   762.712359\n",
       "min    1.627000e+03   199.000000\n",
       "25%    9.871290e+05   290.000000\n",
       "50%    2.526021e+06   840.000000\n",
       "75%    3.993249e+06  1900.000000\n",
       "max    5.740903e+06  4650.000000"
      ]
     },
     "execution_count": 101,
     "metadata": {},
     "output_type": "execute_result"
    }
   ],
   "source": [
    "# Посмотрим описательную статистику таблиыцы checks\n",
    "checks_df.describe()"
   ]
  },
  {
   "cell_type": "markdown",
   "metadata": {},
   "source": [
    "#### **Вывод:** Данные можно использовать для анализа."
   ]
  },
  {
   "cell_type": "markdown",
   "metadata": {},
   "source": [
    "### 4 .Собираем общий df  "
   ]
  },
  {
   "cell_type": "code",
   "execution_count": 102,
   "metadata": {},
   "outputs": [
    {
     "name": "stderr",
     "output_type": "stream",
     "text": [
      "/tmp/ipykernel_435/3480868327.py:2: FutureWarning: The frame.append method is deprecated and will be removed from pandas in a future version. Use pandas.concat instead.\n",
      "  groups_full_df = groups_df.append(groups_add_df)\n"
     ]
    },
    {
     "data": {
      "text/plain": [
       "(74576, 2)"
      ]
     },
     "execution_count": 102,
     "metadata": {},
     "output_type": "execute_result"
    }
   ],
   "source": [
    "# 4.1. Объединим таблицы с группами, и создадим полный справочник клиентов\n",
    "groups_full_df = groups_df.append(groups_add_df)\n",
    "# 4.2. Посмотрим размер данных\n",
    "groups_full_df.shape"
   ]
  },
  {
   "cell_type": "code",
   "execution_count": 103,
   "metadata": {},
   "outputs": [
    {
     "data": {
      "text/html": [
       "<div>\n",
       "<style scoped>\n",
       "    .dataframe tbody tr th:only-of-type {\n",
       "        vertical-align: middle;\n",
       "    }\n",
       "\n",
       "    .dataframe tbody tr th {\n",
       "        vertical-align: top;\n",
       "    }\n",
       "\n",
       "    .dataframe thead th {\n",
       "        text-align: right;\n",
       "    }\n",
       "</style>\n",
       "<table border=\"1\" class=\"dataframe\">\n",
       "  <thead>\n",
       "    <tr style=\"text-align: right;\">\n",
       "      <th></th>\n",
       "      <th>id</th>\n",
       "      <th>grp</th>\n",
       "    </tr>\n",
       "  </thead>\n",
       "  <tbody>\n",
       "  </tbody>\n",
       "</table>\n",
       "</div>"
      ],
      "text/plain": [
       "Empty DataFrame\n",
       "Columns: [id, grp]\n",
       "Index: []"
      ]
     },
     "execution_count": 103,
     "metadata": {},
     "output_type": "execute_result"
    }
   ],
   "source": [
    "# 4.3. Проверяем на дубликаты\n",
    "groups_full_df.loc[groups_full_df.duplicated()]"
   ]
  },
  {
   "cell_type": "code",
   "execution_count": 104,
   "metadata": {},
   "outputs": [
    {
     "data": {
      "image/png": "[encoded data removed]",
      "text/plain": [
       "<Figure size 1200x800 with 1 Axes>"
      ]
     },
     "metadata": {},
     "output_type": "display_data"
    }
   ],
   "source": [
    "# 4.4. Оценим соотношение людей в группах\n",
    "count_persosons = sns.countplot(x='grp', data=groups_full_df).set(title='Количество людей в группах')"
   ]
  },
  {
   "cell_type": "code",
   "execution_count": 105,
   "metadata": {},
   "outputs": [],
   "source": [
    "# 4.5. Добавляем столбец info в таблицу с активными пользователями, чтобы при объединении со справочником всех пользоваталей была возможность отфильтровать активных юзеров.\n",
    "active_studs_df['info'] = 'были на платформе'\n",
    "# 4.6. Объединяем справочник с клиентами и таблицу с активностью\n",
    "# Создаем таблицу всех юзеров с группой тестирования и инфой об активности.\n",
    "all_users = pd.merge(groups_full_df, active_studs_df, how='left', left_on='id', right_on='student_id').drop(\n",
    "    'student_id', axis=1)\n",
    "# 4.7. К таблице с чеками добавляем юзеров, которые были на платформе в день эксперимента.\n",
    "big_df = pd.merge(checks_df, all_users, how='outer', left_on='student_id', right_on='id').drop('student_id', axis=1)\n",
    "big_df = big_df.query('info==\"были на платформе\"').set_index('id')\n",
    "big_df['rev'] = big_df['rev'].fillna(0)\n",
    "# 4.8. Создаем столбец -лейбл, который принимает значение 1, если пользователь совершил покупку и 0 если покупку не совершал.\n",
    "big_df['converted'] = np.where(big_df.rev > 0, 1, 0)\n",
    "# 4.9 Получаем общий df\n",
    "big_df = big_df.reset_index()\n",
    "# 4.10 df общий с участниками эксперимента\n",
    "experiment_df = big_df.query('info==\"были на платформе\"')\n",
    "\n",
    "# Делаем референс таблицы для задания 3\n",
    "experiment_2_df = experiment_df.reset_index()"
   ]
  },
  {
   "cell_type": "markdown",
   "metadata": {},
   "source": [
    "### 5. EDA \n",
    "Проведем разведовательный анализ:\n",
    "1. Выясним количество вариантов оплаты (чем отличаются механики);\n",
    "2. Рассмотрим распределние чеков, платящих клиентов по группам, чтобы узнать есть ли у них отличия;\n",
    "3. Рассчитаем основные показатели эффективности по группам:\n",
    "* **cr%** - конверсия в покупку,\n",
    "* **ARPAU** -  средний платеж на всех активных пользователей,\n",
    "* **ARPPU** - средний платеж на всех платящих пользователей, (более точный чем ARPAU) \n"
   ]
  },
  {
   "cell_type": "code",
   "execution_count": 106,
   "metadata": {},
   "outputs": [
    {
     "data": {
      "text/html": [
       "<style type=\"text/css\">\n",
       "</style>\n",
       "<table id=\"T_4d1da\">\n",
       "  <caption>Количество вариантов оплаты по группам (отличие механик)</caption>\n",
       "  <thead>\n",
       "    <tr>\n",
       "      <th class=\"blank level0\" >&nbsp;</th>\n",
       "      <th id=\"T_4d1da_level0_col0\" class=\"col_heading level0 col0\" >grp</th>\n",
       "      <th id=\"T_4d1da_level0_col1\" class=\"col_heading level0 col1\" >rev</th>\n",
       "    </tr>\n",
       "  </thead>\n",
       "  <tbody>\n",
       "    <tr>\n",
       "      <th id=\"T_4d1da_level0_row0\" class=\"row_heading level0 row0\" >0</th>\n",
       "      <td id=\"T_4d1da_row0_col0\" class=\"data row0 col0\" >A</td>\n",
       "      <td id=\"T_4d1da_row0_col1\" class=\"data row0 col1\" >23</td>\n",
       "    </tr>\n",
       "    <tr>\n",
       "      <th id=\"T_4d1da_level0_row1\" class=\"row_heading level0 row1\" >1</th>\n",
       "      <td id=\"T_4d1da_row1_col0\" class=\"data row1 col0\" >B</td>\n",
       "      <td id=\"T_4d1da_row1_col1\" class=\"data row1 col1\" >32</td>\n",
       "    </tr>\n",
       "  </tbody>\n",
       "</table>\n"
      ],
      "text/plain": [
       "<pandas.io.formats.style.Styler at 0x7ff72101f0d0>"
      ]
     },
     "execution_count": 106,
     "metadata": {},
     "output_type": "execute_result"
    }
   ],
   "source": [
    "# 5.1. Чем отличаются механики?\n",
    "\n",
    "# Переведем чеки в целое число и сгруппируем, чтобы посмотреть сколько вариантов оплат существует для пользователей в разных механиках.\n",
    "vs_checks_df = experiment_df.astype({'rev': 'int'})\n",
    "a_checks = (\n",
    "    vs_checks_df.query('grp==\"A\" & rev>0')\n",
    "    .rev.value_counts()\n",
    "    .to_frame()\n",
    "    .reset_index()\n",
    "    .rename(columns={'index': 'check', 'rev': 'clients_a'})\n",
    "    .sort_values('check')\n",
    ")\n",
    "b_checks = (\n",
    "    vs_checks_df.query('grp==\"B\" & rev>0')\n",
    "    .rev.value_counts()\n",
    "    .to_frame()\n",
    "    .reset_index()\n",
    "    .rename(columns={'index': 'check', 'rev': 'clients_b'})\n",
    "    .sort_values('check')\n",
    ")\n",
    "# 5.1. Узнаем количество вариантов оплаты по группам. (чем отличаются механики)\n",
    "payment_variants = vs_checks_df.query('rev>0 ').groupby('grp').agg({'rev': 'nunique'}).reset_index()\n",
    "payment_variants.style.set_caption(\"Количество вариантов оплаты по группам (отличие механик)\")"
   ]
  },
  {
   "cell_type": "code",
   "execution_count": 107,
   "metadata": {},
   "outputs": [
    {
     "data": {
      "text/plain": [
       "<Axes: xlabel='grp', ylabel='rev'>"
      ]
     },
     "execution_count": 107,
     "metadata": {},
     "output_type": "execute_result"
    },
    {
     "data": {
      "image/png": "[encoded data removed]",
      "text/plain": [
       "<Figure size 1200x800 with 1 Axes>"
      ]
     },
     "metadata": {},
     "output_type": "display_data"
    }
   ],
   "source": [
    "# 5.2. Построим violin chart, чтобы посмотреть на распределение чеков в группах.\n",
    "sns.violinplot(data=experiment_df[experiment_df['rev'] > 0], x=\"grp\", y=\"rev\")"
   ]
  },
  {
   "cell_type": "markdown",
   "metadata": {},
   "source": [
    "**Вывод:** Из графика видно, что в группе B медиана находится выше, больше вариабильности чеков, а также значительная часть чеков находится в районе 2000, в то время как в группе А большая плотность нижк 1000."
   ]
  },
  {
   "cell_type": "code",
   "execution_count": 108,
   "metadata": {},
   "outputs": [],
   "source": [
    "# Считаем конвесии на каждого пользователя (на случай если есть повторные покупки)\n",
    "experiment_df_cr = (\n",
    "    experiment_df.groupby(['grp', 'id'])\n",
    "    .agg({'converted': 'sum'})\n",
    "    .reset_index()\n",
    "    .sort_values('converted', ascending=False)\n",
    ")\n",
    "\n",
    "# Считаем отдельно конверсии = 0 и 1\n",
    "groups_df = experiment_df_cr.pivot_table(index='grp', columns='converted', aggfunc='size', fill_value=0)\n",
    "groups_df.columns = ['converted_0', 'converted_1']\n",
    "groups_df = groups_df.reset_index()\n",
    "groups_df['total_conversions'] = groups_df['converted_0'] + groups_df['converted_1']\n",
    "# Получаем CR\n",
    "groups_df['conversion_rate'] = groups_df['converted_1'] / groups_df['total_conversions']\n",
    "\n",
    "# считаем доход по группам\n",
    "rev_4_grp_df = experiment_df.groupby('grp').agg(rev=('rev', 'sum'), users=('id', 'nunique')).reset_index()\n",
    "# считаем количество платящих пользователей\n",
    "paying_users_df = (\n",
    "    experiment_df.query('converted==1').reset_index().groupby('grp').agg(paying_users=('id', 'nunique')).reset_index()\n",
    ")\n",
    "# Добавляем к df столбцы с доходо и количеством пользователей\n",
    "groups_df = groups_df.merge(rev_4_grp_df, on='grp')\n",
    "groups_df = groups_df.merge(paying_users_df, on='grp')\n",
    "# Считаем ARPAU\n",
    "groups_df['arpau'] = groups_df['rev'] / groups_df['users']\n",
    "# Считаем ARPPU\n",
    "groups_df['arppu'] = groups_df['rev'] / groups_df['paying_users']\n",
    "groups_df = groups_df.set_index('grp')"
   ]
  },
  {
   "cell_type": "code",
   "execution_count": 109,
   "metadata": {},
   "outputs": [
    {
     "data": {
      "text/html": [
       "<div>\n",
       "<style scoped>\n",
       "    .dataframe tbody tr th:only-of-type {\n",
       "        vertical-align: middle;\n",
       "    }\n",
       "\n",
       "    .dataframe tbody tr th {\n",
       "        vertical-align: top;\n",
       "    }\n",
       "\n",
       "    .dataframe thead th {\n",
       "        text-align: right;\n",
       "    }\n",
       "</style>\n",
       "<table border=\"1\" class=\"dataframe\">\n",
       "  <thead>\n",
       "    <tr style=\"text-align: right;\">\n",
       "      <th></th>\n",
       "      <th>converted_0</th>\n",
       "      <th>converted_1</th>\n",
       "      <th>total_conversions</th>\n",
       "      <th>conversion_rate</th>\n",
       "      <th>rev</th>\n",
       "      <th>users</th>\n",
       "      <th>paying_users</th>\n",
       "      <th>arpau</th>\n",
       "      <th>arppu</th>\n",
       "    </tr>\n",
       "    <tr>\n",
       "      <th>grp</th>\n",
       "      <th></th>\n",
       "      <th></th>\n",
       "      <th></th>\n",
       "      <th></th>\n",
       "      <th></th>\n",
       "      <th></th>\n",
       "      <th></th>\n",
       "      <th></th>\n",
       "      <th></th>\n",
       "    </tr>\n",
       "  </thead>\n",
       "  <tbody>\n",
       "    <tr>\n",
       "      <th>A</th>\n",
       "      <td>1460</td>\n",
       "      <td>78</td>\n",
       "      <td>1538</td>\n",
       "      <td>0.050715</td>\n",
       "      <td>72820.0000</td>\n",
       "      <td>1538</td>\n",
       "      <td>78</td>\n",
       "      <td>47.347204</td>\n",
       "      <td>933.589744</td>\n",
       "    </tr>\n",
       "    <tr>\n",
       "      <th>B</th>\n",
       "      <td>6489</td>\n",
       "      <td>314</td>\n",
       "      <td>6803</td>\n",
       "      <td>0.046156</td>\n",
       "      <td>394974.0035</td>\n",
       "      <td>6803</td>\n",
       "      <td>314</td>\n",
       "      <td>58.058798</td>\n",
       "      <td>1257.878992</td>\n",
       "    </tr>\n",
       "  </tbody>\n",
       "</table>\n",
       "</div>"
      ],
      "text/plain": [
       "     converted_0  converted_1  total_conversions  conversion_rate  \\\n",
       "grp                                                                 \n",
       "A           1460           78               1538         0.050715   \n",
       "B           6489          314               6803         0.046156   \n",
       "\n",
       "             rev  users  paying_users      arpau        arppu  \n",
       "grp                                                            \n",
       "A     72820.0000   1538            78  47.347204   933.589744  \n",
       "B    394974.0035   6803           314  58.058798  1257.878992  "
      ]
     },
     "execution_count": 109,
     "metadata": {},
     "output_type": "execute_result"
    }
   ],
   "source": [
    "groups_df.head()"
   ]
  },
  {
   "cell_type": "code",
   "execution_count": 110,
   "metadata": {},
   "outputs": [
    {
     "name": "stdout",
     "output_type": "stream",
     "text": [
      " Вывод: Разница в CR% между группами 'A' и 'B': -8.99% в ARPAU% : 22.62% в ARPPU% : 34.74%\n"
     ]
    }
   ],
   "source": [
    "# Вывод по CR%\n",
    "\n",
    "# Извлекаем значения CR для групп 'A' и 'B'\n",
    "cr_a = groups_df.loc['A', 'conversion_rate']\n",
    "cr_b = groups_df.loc['B', 'conversion_rate']\n",
    "# Вычисляем разницу в процентах (CR)\n",
    "difference_cr = (cr_b - cr_a) / cr_a * 100\n",
    "# Пишем заключение по CR\n",
    "conclusion_cr = f\" Вывод: Разница в CR% между группами 'A' и 'B': {difference_cr:.2f}%\"\n",
    "\n",
    "# Вывод по ARPAU%\n",
    "# Извлекаем значения ARPAU для групп 'A' и 'B'\n",
    "arpau_a = groups_df.loc['A', 'arpau']\n",
    "arpau_b = groups_df.loc['B', 'arpau']\n",
    "# Вычисляем разницу в процентах (ARPAU)\n",
    "difference_arpau = (arpau_b - arpau_a) / arpau_a * 100\n",
    "# Пишем заключение по ARPAU\n",
    "conclusion_arpau = f\"в ARPAU% : {difference_arpau:.2f}%\"\n",
    "\n",
    "# Вывод по ARPPU%\n",
    "# Извлекаем значения ARPPU для групп 'A' и 'B'\n",
    "arppu_a = groups_df.loc['A', 'arppu']\n",
    "arppu_b = groups_df.loc['B', 'arppu']\n",
    "# Вычисляем разницу в процентах (ARPPU)\n",
    "difference_arppu = (arppu_b - arppu_a) / arppu_a * 100\n",
    "# Пишем заключение по CR\n",
    "conclusion_arppu = f\"в ARPPU% : {difference_arppu:.2f}%\"\n",
    "\n",
    "print(conclusion_cr, conclusion_arpau, conclusion_arppu)"
   ]
  },
  {
   "cell_type": "markdown",
   "metadata": {},
   "source": [
    " ## 6. Проверка гипотез \n",
    "### 6.1. Фиксируем гипотезы (CR)\n",
    "**H0** - новая механика оплаты услуг на сайте НЕ влияет на конверсию в покупку <br>\n",
    "**H1** - новая механика оплаты услуг на сайте влияет на конверсию в покупку <br> \n",
    "<br> Уровень значимости p= 0.05 <br>\n",
    "\n",
    "Мы  анализируем категориальные переменные, поэтому выбираем хи-тест.\n"
   ]
  },
  {
   "cell_type": "code",
   "execution_count": 111,
   "metadata": {},
   "outputs": [
    {
     "data": {
      "text/plain": [
       "'Вывод: p-value=  0.44547028437158964 больше или равно 0.05. Статистически значимых различий нет. Проще говоря, нет никакой разницы в конверсиях между старой и новой механикой оплаты.'"
      ]
     },
     "execution_count": 111,
     "metadata": {},
     "output_type": "execute_result"
    }
   ],
   "source": [
    "# 6.1. Готовим таблицу для хи-теста\n",
    "\n",
    "# Оставляем только нужные столбцы из df\n",
    "experiment_2_df = experiment_2_df[['grp', 'converted']]\n",
    "# 1) разделяем группы на два отдельных датафрейма\n",
    "a = experiment_2_df[experiment_2_df['grp'] == 'A']\n",
    "b = experiment_2_df[experiment_2_df['grp'] == 'B']\n",
    "# 2) A-purchase, A-nopurchase, B-purchase, B-nopurchase\n",
    "a_purchase = a.converted.sum()\n",
    "a_nopurchase = a.converted.size - a.converted.sum()\n",
    "b_purchase = b.converted.sum()\n",
    "b_nopurchase = b.converted.size - b.converted.sum()\n",
    "# 3) Создаем массив\n",
    "T = np.array([[a_purchase, a_nopurchase], [b_purchase, b_nopurchase]])\n",
    "\n",
    "# 6.2. Запускаем тест\n",
    "# print(scipy.stats.chi2_contingency(T, correction=False)[1])\n",
    "hitest_result = scipy.stats.chi2_contingency(T, correction=False)[1]\n",
    "if hitest_result < 0.05:\n",
    "    hitest_conclusion = f'Вывод: p-value= {hitest_result} меньше 0.05. Существуют статистически значимые различия. Отклоняем нулевую гипотезу.'\n",
    "else:\n",
    "    hitest_conclusion = f'Вывод: p-value=  {hitest_result} больше или равно 0.05. Статистически значимых различий нет. Проще говоря, нет никакой разницы в конверсиях между старой и новой механикой оплаты.'\n",
    "hitest_conclusion"
   ]
  },
  {
   "cell_type": "markdown",
   "metadata": {},
   "source": [
    "### 6.2. Фиксируем гипотезы (Average Revenue Per Paying User) <br>\n",
    "**H0** - новая механика оплаты услуг на сайте НЕ влияет на ARPPU <br>\n",
    "**H1** - новая механика оплаты услуг на сайте влияет на ARPPU <br> \n",
    "<br> Уровень значимости p= 0.05 <br>\n",
    "Исходя из условия задачи (попытка сравнить средние генеральной совокупности) нам  больше подходит t-test. \n",
    "Предварительно необходимо проверить данные на соответствия требованиям применения t-testа:\n",
    "* Требование на нормальность;\n",
    "* Требование на гомогенность дисперсий."
   ]
  },
  {
   "cell_type": "code",
   "execution_count": 112,
   "metadata": {},
   "outputs": [
    {
     "data": {
      "text/plain": [
       "<Axes: xlabel='rev', ylabel='Density'>"
      ]
     },
     "execution_count": 112,
     "metadata": {},
     "output_type": "execute_result"
    },
    {
     "data": {
      "image/png": "[encoded data removed]",
      "text/plain": [
       "<Figure size 1200x800 with 1 Axes>"
      ]
     },
     "metadata": {},
     "output_type": "display_data"
    }
   ],
   "source": [
    "# 6.2.1. Проверим требование к нормальности данных обеих групп при применении t-теста с помощью графиков и теста на нормальность\n",
    "\n",
    "sns.histplot(data=experiment_df.query('rev>0 & grp==\"A\"')['rev'], kde=True, stat='density', color='blue', label='A')\n",
    "sns.histplot(data=experiment_df.query('rev>0 & grp==\"B\"')['rev'], kde=True, stat='density', color='red', label='B')"
   ]
  },
  {
   "cell_type": "markdown",
   "metadata": {},
   "source": [
    "**Вывод:** Ярко выражена ассиметрия, большая часть наблюдений кучкуется в одном месте и есть несколько выделяющихся значений.Фактически это будет влиять на среднее так же, как и выбросы."
   ]
  },
  {
   "cell_type": "code",
   "execution_count": 113,
   "metadata": {},
   "outputs": [
    {
     "data": {
      "text/html": [
       "<div>\n",
       "<style scoped>\n",
       "    .dataframe tbody tr th:only-of-type {\n",
       "        vertical-align: middle;\n",
       "    }\n",
       "\n",
       "    .dataframe tbody tr th {\n",
       "        vertical-align: top;\n",
       "    }\n",
       "\n",
       "    .dataframe thead th {\n",
       "        text-align: right;\n",
       "    }\n",
       "</style>\n",
       "<table border=\"1\" class=\"dataframe\">\n",
       "  <thead>\n",
       "    <tr style=\"text-align: right;\">\n",
       "      <th></th>\n",
       "      <th>W</th>\n",
       "      <th>pval</th>\n",
       "      <th>normal</th>\n",
       "    </tr>\n",
       "    <tr>\n",
       "      <th>grp</th>\n",
       "      <th></th>\n",
       "      <th></th>\n",
       "      <th></th>\n",
       "    </tr>\n",
       "  </thead>\n",
       "  <tbody>\n",
       "    <tr>\n",
       "      <th>A</th>\n",
       "      <td>30.378420</td>\n",
       "      <td>2.531687e-07</td>\n",
       "      <td>False</td>\n",
       "    </tr>\n",
       "    <tr>\n",
       "      <th>B</th>\n",
       "      <td>6.795663</td>\n",
       "      <td>3.344572e-02</td>\n",
       "      <td>False</td>\n",
       "    </tr>\n",
       "  </tbody>\n",
       "</table>\n",
       "</div>"
      ],
      "text/plain": [
       "             W          pval  normal\n",
       "grp                                 \n",
       "A    30.378420  2.531687e-07   False\n",
       "B     6.795663  3.344572e-02   False"
      ]
     },
     "execution_count": 113,
     "metadata": {},
     "output_type": "execute_result"
    }
   ],
   "source": [
    "# Проверим данные на нормальность с помощью теста\n",
    "pg.normality(experiment_df.query('rev>0'), dv='rev', group='grp', method='normaltest')"
   ]
  },
  {
   "cell_type": "code",
   "execution_count": 114,
   "metadata": {},
   "outputs": [
    {
     "data": {
      "text/html": [
       "<div>\n",
       "<style scoped>\n",
       "    .dataframe tbody tr th:only-of-type {\n",
       "        vertical-align: middle;\n",
       "    }\n",
       "\n",
       "    .dataframe tbody tr th {\n",
       "        vertical-align: top;\n",
       "    }\n",
       "\n",
       "    .dataframe thead th {\n",
       "        text-align: right;\n",
       "    }\n",
       "</style>\n",
       "<table border=\"1\" class=\"dataframe\">\n",
       "  <thead>\n",
       "    <tr style=\"text-align: right;\">\n",
       "      <th></th>\n",
       "      <th>W</th>\n",
       "      <th>pval</th>\n",
       "      <th>equal_var</th>\n",
       "    </tr>\n",
       "  </thead>\n",
       "  <tbody>\n",
       "    <tr>\n",
       "      <th>levene</th>\n",
       "      <td>3.075682</td>\n",
       "      <td>0.080257</td>\n",
       "      <td>True</td>\n",
       "    </tr>\n",
       "  </tbody>\n",
       "</table>\n",
       "</div>"
      ],
      "text/plain": [
       "               W      pval  equal_var\n",
       "levene  3.075682  0.080257       True"
      ]
     },
     "execution_count": 114,
     "metadata": {},
     "output_type": "execute_result"
    }
   ],
   "source": [
    "# 6.2.2. Сделаем проверку на гомогенность дисперсий\n",
    "pg.homoscedasticity(experiment_df.query('rev>0'), dv='rev', group='grp')"
   ]
  },
  {
   "cell_type": "markdown",
   "metadata": {},
   "source": [
    "**Вывод:** Отклонения от нормальности не так критичны. (нормальность выборочного распределения по ЦПТ не является критичной для t-теста при большом количестве наблюдений), следовательно можем применить t-test."
   ]
  },
  {
   "cell_type": "markdown",
   "metadata": {},
   "source": [
    "#### 6.2.2. Проводим t-test (ARPPU)"
   ]
  },
  {
   "cell_type": "code",
   "execution_count": 115,
   "metadata": {},
   "outputs": [
    {
     "name": "stdout",
     "output_type": "stream",
     "text": [
      "Вывод: p-value меньше 0.05. Существуют статистически значимые различия. Отклоняем нулевую гипотезу. Результат между тестом и контролем (в средних) составил 34.74%\n"
     ]
    }
   ],
   "source": [
    "# p-value T-test\n",
    "t_test_result = stats.ttest_ind(\n",
    "    experiment_df.query('rev>0 & grp==\"A\"')['rev'], experiment_df.query('rev>0 & grp==\"B\"')['rev']\n",
    ")\n",
    "\n",
    "p_value = t_test_result[1]\n",
    "if p_value < 0.05:\n",
    "    ttest_conclusion = (\n",
    "        \"Вывод: p-value меньше 0.05. Существуют статистически значимые различия. Отклоняем нулевую гипотезу.\"\n",
    "    )\n",
    "else:\n",
    "    ttest_conclusion = \"Вывод: p-value больше или равно 0.05. Статистически значимых различий нет.\"\n",
    "b_mean = experiment_df.query('rev>0 & grp==\"B\"')['rev'].mean()\n",
    "a_mean = experiment_df.query('rev>0 & grp==\"A\"')['rev'].mean()\n",
    "\n",
    "percent = np.round((b_mean - a_mean) / a_mean * 100, 2)\n",
    "conclusion_difference = f\"Результат между тестом и контролем (в средних) составил \" + str(percent) + \"%\"\n",
    "print(ttest_conclusion, conclusion_difference)"
   ]
  },
  {
   "cell_type": "markdown",
   "metadata": {},
   "source": [
    "### 6.3. Фиксируем гипотезы (Average Revenue Per Active User) <br>\n",
    "**H0** - новая механика оплаты услуг на сайте НЕ влияет на ARPAU <br>\n",
    "**H1** - новая механика оплаты услуг на сайте влияет на ARPAU <br> \n",
    "<br> Уровень значимости p= 0.05 <br>\n",
    "Исходя из условия задачи (попытка сравнить средние генеральной совокупности) нам  больше подходит t-test. \n",
    "Проверим данные на соответствия требованиям применения t-testа:\n",
    "* Требование на нормальность;\n",
    "* Требование на гомогенность дисперсий."
   ]
  },
  {
   "cell_type": "code",
   "execution_count": 116,
   "metadata": {},
   "outputs": [
    {
     "data": {
      "text/html": [
       "<div>\n",
       "<style scoped>\n",
       "    .dataframe tbody tr th:only-of-type {\n",
       "        vertical-align: middle;\n",
       "    }\n",
       "\n",
       "    .dataframe tbody tr th {\n",
       "        vertical-align: top;\n",
       "    }\n",
       "\n",
       "    .dataframe thead th {\n",
       "        text-align: right;\n",
       "    }\n",
       "</style>\n",
       "<table border=\"1\" class=\"dataframe\">\n",
       "  <thead>\n",
       "    <tr style=\"text-align: right;\">\n",
       "      <th></th>\n",
       "      <th>W</th>\n",
       "      <th>pval</th>\n",
       "      <th>normal</th>\n",
       "    </tr>\n",
       "    <tr>\n",
       "      <th>grp</th>\n",
       "      <th></th>\n",
       "      <th></th>\n",
       "      <th></th>\n",
       "    </tr>\n",
       "  </thead>\n",
       "  <tbody>\n",
       "    <tr>\n",
       "      <th>A</th>\n",
       "      <td>2240.595797</td>\n",
       "      <td>0.0</td>\n",
       "      <td>False</td>\n",
       "    </tr>\n",
       "    <tr>\n",
       "      <th>B</th>\n",
       "      <td>7797.399212</td>\n",
       "      <td>0.0</td>\n",
       "      <td>False</td>\n",
       "    </tr>\n",
       "  </tbody>\n",
       "</table>\n",
       "</div>"
      ],
      "text/plain": [
       "               W  pval  normal\n",
       "grp                           \n",
       "A    2240.595797   0.0   False\n",
       "B    7797.399212   0.0   False"
      ]
     },
     "execution_count": 116,
     "metadata": {},
     "output_type": "execute_result"
    }
   ],
   "source": [
    "# 6.3.1. Проверим данные на нормальность с помощью теста\n",
    "pg.normality(experiment_df, dv='rev', group='grp', method='normaltest')"
   ]
  },
  {
   "cell_type": "code",
   "execution_count": 117,
   "metadata": {},
   "outputs": [
    {
     "data": {
      "text/html": [
       "<div>\n",
       "<style scoped>\n",
       "    .dataframe tbody tr th:only-of-type {\n",
       "        vertical-align: middle;\n",
       "    }\n",
       "\n",
       "    .dataframe tbody tr th {\n",
       "        vertical-align: top;\n",
       "    }\n",
       "\n",
       "    .dataframe thead th {\n",
       "        text-align: right;\n",
       "    }\n",
       "</style>\n",
       "<table border=\"1\" class=\"dataframe\">\n",
       "  <thead>\n",
       "    <tr style=\"text-align: right;\">\n",
       "      <th></th>\n",
       "      <th>W</th>\n",
       "      <th>pval</th>\n",
       "      <th>equal_var</th>\n",
       "    </tr>\n",
       "  </thead>\n",
       "  <tbody>\n",
       "    <tr>\n",
       "      <th>levene</th>\n",
       "      <td>1.501461</td>\n",
       "      <td>0.220481</td>\n",
       "      <td>True</td>\n",
       "    </tr>\n",
       "  </tbody>\n",
       "</table>\n",
       "</div>"
      ],
      "text/plain": [
       "               W      pval  equal_var\n",
       "levene  1.501461  0.220481       True"
      ]
     },
     "execution_count": 117,
     "metadata": {},
     "output_type": "execute_result"
    }
   ],
   "source": [
    "# 6.3.2. Сделаем проверку на гомогенность дисперсий\n",
    "pg.homoscedasticity(experiment_df, dv='rev', group='grp')"
   ]
  },
  {
   "cell_type": "markdown",
   "metadata": {},
   "source": [
    "**Вывод:** Отклонения от нормальности не так критичны. (нормальность выборочного распределения по ЦПТ не является критичной для t-теста при большом количестве наблюдений), следовательно можем применить t-test."
   ]
  },
  {
   "cell_type": "markdown",
   "metadata": {},
   "source": [
    "#### 6.3.2. Проводим t-test (ARPAU)"
   ]
  },
  {
   "cell_type": "code",
   "execution_count": 118,
   "metadata": {},
   "outputs": [
    {
     "name": "stdout",
     "output_type": "stream",
     "text": [
      "Вывод: 0.22048133326988414 больше или равно 0.05. Статистически значимых различий нет.\n"
     ]
    }
   ],
   "source": [
    "# p-value T-test\n",
    "t_test_result = stats.ttest_ind(experiment_df.query('grp==\"A\"')['rev'], experiment_df.query('grp==\"B\"')['rev'])\n",
    "\n",
    "p_value = t_test_result[1]\n",
    "if p_value < 0.05:\n",
    "    ttest_conclusion = (\n",
    "        f'Вывод: {p_value} меньше 0.05. Существуют статистически значимые различия. Отклоняем нулевую гипотезу.'\n",
    "    )\n",
    "else:\n",
    "    ttest_conclusion = f'Вывод: {p_value} больше или равно 0.05. Статистически значимых различий нет.'\n",
    "b_mean = experiment_df.query('grp==\"B\"')['rev'].mean()\n",
    "a_mean = experiment_df.query('grp==\"A\"')['rev'].mean()\n",
    "\n",
    "percent = np.round((b_mean - a_mean) / a_mean * 100, 2)\n",
    "conclusion_difference = f\"Результат между тестом и контролем (в средних) составил \" + str(percent) + \"%\"\n",
    "print(ttest_conclusion)"
   ]
  },
  {
   "cell_type": "markdown",
   "metadata": {},
   "source": [
    "## ЗАКЛЮЧЕНИЕ\n",
    "\n",
    "В проведенном анализе учитывали только активных пользователей, которые во время эксперимента посещали платформу и/или производили оплату. Оценка эффективности новой механики оплаты основана на следующих показателях:\n",
    "\n",
    "1) Конверсия в покупку (CR): чтобы определить, насколько успешно новая механика приводит к увеличению числа покупок.\n",
    "\n",
    "2) Средний доход на активного пользователя (ARPU) и средний доход на платящего пользователя (ARPPU): эти показатели помогают измерить, насколько новая механика оплаты влияет на лояльность клиентов и выражает ценность сделанных изменений финансово.\n",
    "\n",
    "В результате анализа выявлено, что изменение механики оплаты значительно влияет на средний доход на платящего пользователя (ARPPU в тестовой группе превышает этот показатель в контрольной группе на 34,7%) с достоверным статистическим значимым эффектом. При этом новая механика не оказывает статистически значимого влияния на средний доход на пользователя (ARPAU) и конверсию в покупку.\n",
    "\n",
    "**Рекомендация**: Следует запустить новую механику оплаты услуг на всех пользователях. Улучшение ARPPU на 34,74% является значительным и может привести к повышению доходности и росту выручки компании.\n"
   ]
  },
  {
   "cell_type": "markdown",
   "metadata": {},
   "source": [
    "## Задание 3."
   ]
  },
  {
   "cell_type": "markdown",
   "metadata": {},
   "source": [
    "#### Задача 3.1. Решение"
   ]
  },
  {
   "cell_type": "code",
   "execution_count": 119,
   "metadata": {},
   "outputs": [],
   "source": [
    "def get_groups_add():\n",
    "    base_url = 'https://cloud-api.yandex.net/v1/disk/public/resources/download?'\n",
    "    public_key = 'https://disk.yandex.ru/d/mV20xzm72xuyRg'\n",
    "    # получаем url\n",
    "    final_url = base_url + urlencode(dict(public_key=public_key))\n",
    "    response = requests.get(final_url)\n",
    "    download_url_orders = response.json()['href']\n",
    "    # загружаем файл в df\n",
    "    groups_add_task3 = pd.read_csv(download_url_orders, sep=',')\n",
    "    groups_full = groups_df.append(groups_add_task3)\n",
    "    # Создаем таблицу всех юзеров с группой тестирования и инфой об активности.\n",
    "    all_users = pd.merge(groups_full, active_studs_df, how='left', left_on='id', right_on='student_id').drop(\n",
    "        'student_id', axis=1\n",
    "    )\n",
    "    # big_df = pd.merge(checks_df, all_users, how='outer', left_on='student_id', right_on='id').drop('student_id', axis=1)\n",
    "    # big_df = big_df.query('info==\"были на платформе\" or rev>0').set_index('id')\n",
    "    # big_df['rev'] = big_df['rev'].fillna(0)\n",
    "    # # Создаем столбец -лейбл, который принимает значение 1, если пользователь совершил покупку и 0 если покупку не совершал.\n",
    "    # big_df['converted'] = np.where(big_df.rev > 0, 1, 0)\n",
    "    # groups = (\n",
    "    #     big_df.reset_index()\n",
    "    #     .groupby(['grp'])\n",
    "    #     .agg(ids=('id', 'size'), revenue=('rev', 'sum'), converted=('converted', 'sum'))\n",
    "    # )\n",
    "    # # Добавляем столбец с MRPPU\n",
    "    # groups = pd.concat([groups, mrppu_by_groups], axis=1)\n",
    "    # #  Считаем клиентов, которые не делали покупок\n",
    "    # groups['unconverted'] = groups['ids'] - groups['converted']\n",
    "    # # Считаем % клиентов, которые не делали покупок\n",
    "    # groups['part_unconv_%'] = np.round(((groups['unconverted'] / groups['ids']) * 100), 2)\n",
    "    # # Считаем CR%\n",
    "    # groups['cr_%'] = round(((groups.converted / groups.ids) * 100), 2)\n",
    "    # groups['revenue'] = np.round((groups.revenue), 2)\n",
    "    # # # Посчитаем разницу в CR между группами в %\n",
    "    # groups['diff%_cr_B-A'] = np.round(\n",
    "    #     ((groups.loc['B']['cr_%'] - groups.loc['A']['cr_%']) / groups.loc['A']['cr_%']), 2\n",
    "    # )\n",
    "    # # Посчитаем разницу в ARPU между группами абсолют. и в %\n",
    "    # groups['ARPU'] = np.round((groups.revenue / groups.ids), 2)\n",
    "    # groups['diff%_ARPU_B-A'] = np.round(\n",
    "    #     (((groups.loc['B']['ARPU'] - groups.loc['A']['ARPU']) / groups.loc['A']['ARPU']) * 100), 2\n",
    "    # )\n",
    "    # # Посчитаем разницу в ARPPU между группами абсолют. и в %\n",
    "    # groups['ARPPU'] = np.round((groups.revenue / groups.converted), 2)\n",
    "    # # groups['diff_ARPPU_B-A'] = np.round((groups.loc['B']['ARPPU'] - groups.loc['A']['ARPPU']),2)\n",
    "    # groups['diff%_ARPPU_B-A'] = np.round(\n",
    "    #     (((groups.loc['B']['ARPPU'] - groups.loc['A']['ARPPU']) / groups.loc['A']['ARPPU']) * 100), 2\n",
    "    # )\n",
    "    # groups['diff%_MRPPU_B-A'] = np.round(\n",
    "    #     (((groups.loc['B']['MRPPU'] - groups.loc['A']['MRPPU']) / groups.loc['A']['MRPPU']) * 100), 2\n",
    "    # )\n",
    "    # # Посчитаем % клиентов в группах\n",
    "    # groups['%_clients'] = np.round(((groups['ids'] / (groups.loc['A']['ids'] + groups.loc['B']['ids'])) * 100), 2)\n",
    "    # f_one_result = groups.reset_index()[\n",
    "    #     [\n",
    "    #         'grp',\n",
    "    #         '%_clients',\n",
    "    #         'cr_%',\n",
    "    #         'ARPU',\n",
    "    #         'ARPPU',\n",
    "    #         'MRPPU',\n",
    "    #         'diff%_cr_B-A',\n",
    "    #         'diff%_ARPU_B-A',\n",
    "    #         'diff%_ARPPU_B-A',\n",
    "    #         'diff%_MRPPU_B-A',\n",
    "    #     ]\n",
    "    # ]\n",
    "    # return f_one_result\n",
    "    return all_users"
   ]
  },
  {
   "cell_type": "markdown",
   "metadata": {},
   "source": [
    "#### Задача 3.1. Результат"
   ]
  },
  {
   "cell_type": "code",
   "execution_count": 120,
   "metadata": {},
   "outputs": [
    {
     "name": "stderr",
     "output_type": "stream",
     "text": [
      "/tmp/ipykernel_435/3771277740.py:10: FutureWarning: The frame.append method is deprecated and will be removed from pandas in a future version. Use pandas.concat instead.\n",
      "  groups_full = groups_df.append(groups_add_task3)\n"
     ]
    },
    {
     "data": {
      "text/html": [
       "<div>\n",
       "<style scoped>\n",
       "    .dataframe tbody tr th:only-of-type {\n",
       "        vertical-align: middle;\n",
       "    }\n",
       "\n",
       "    .dataframe tbody tr th {\n",
       "        vertical-align: top;\n",
       "    }\n",
       "\n",
       "    .dataframe thead th {\n",
       "        text-align: right;\n",
       "    }\n",
       "</style>\n",
       "<table border=\"1\" class=\"dataframe\">\n",
       "  <thead>\n",
       "    <tr style=\"text-align: right;\">\n",
       "      <th></th>\n",
       "      <th>converted_0</th>\n",
       "      <th>converted_1</th>\n",
       "      <th>total_conversions</th>\n",
       "      <th>conversion_rate</th>\n",
       "      <th>rev</th>\n",
       "      <th>users</th>\n",
       "      <th>paying_users</th>\n",
       "      <th>arpau</th>\n",
       "      <th>arppu</th>\n",
       "      <th>id</th>\n",
       "      <th>grp</th>\n",
       "      <th>info</th>\n",
       "    </tr>\n",
       "  </thead>\n",
       "  <tbody>\n",
       "    <tr>\n",
       "      <th>0</th>\n",
       "      <td>1460.0</td>\n",
       "      <td>78.0</td>\n",
       "      <td>1538.0</td>\n",
       "      <td>0.050715</td>\n",
       "      <td>72820.0000</td>\n",
       "      <td>1538.0</td>\n",
       "      <td>78.0</td>\n",
       "      <td>47.347204</td>\n",
       "      <td>933.589744</td>\n",
       "      <td>NaN</td>\n",
       "      <td>NaN</td>\n",
       "      <td>NaN</td>\n",
       "    </tr>\n",
       "    <tr>\n",
       "      <th>1</th>\n",
       "      <td>6489.0</td>\n",
       "      <td>314.0</td>\n",
       "      <td>6803.0</td>\n",
       "      <td>0.046156</td>\n",
       "      <td>394974.0035</td>\n",
       "      <td>6803.0</td>\n",
       "      <td>314.0</td>\n",
       "      <td>58.058798</td>\n",
       "      <td>1257.878992</td>\n",
       "      <td>NaN</td>\n",
       "      <td>NaN</td>\n",
       "      <td>NaN</td>\n",
       "    </tr>\n",
       "    <tr>\n",
       "      <th>2</th>\n",
       "      <td>NaN</td>\n",
       "      <td>NaN</td>\n",
       "      <td>NaN</td>\n",
       "      <td>NaN</td>\n",
       "      <td>NaN</td>\n",
       "      <td>NaN</td>\n",
       "      <td>NaN</td>\n",
       "      <td>NaN</td>\n",
       "      <td>NaN</td>\n",
       "      <td>5694584.0</td>\n",
       "      <td>B</td>\n",
       "      <td>NaN</td>\n",
       "    </tr>\n",
       "    <tr>\n",
       "      <th>3</th>\n",
       "      <td>NaN</td>\n",
       "      <td>NaN</td>\n",
       "      <td>NaN</td>\n",
       "      <td>NaN</td>\n",
       "      <td>NaN</td>\n",
       "      <td>NaN</td>\n",
       "      <td>NaN</td>\n",
       "      <td>NaN</td>\n",
       "      <td>NaN</td>\n",
       "      <td>5694830.0</td>\n",
       "      <td>B</td>\n",
       "      <td>NaN</td>\n",
       "    </tr>\n",
       "    <tr>\n",
       "      <th>4</th>\n",
       "      <td>NaN</td>\n",
       "      <td>NaN</td>\n",
       "      <td>NaN</td>\n",
       "      <td>NaN</td>\n",
       "      <td>NaN</td>\n",
       "      <td>NaN</td>\n",
       "      <td>NaN</td>\n",
       "      <td>NaN</td>\n",
       "      <td>NaN</td>\n",
       "      <td>5695057.0</td>\n",
       "      <td>B</td>\n",
       "      <td>NaN</td>\n",
       "    </tr>\n",
       "    <tr>\n",
       "      <th>...</th>\n",
       "      <td>...</td>\n",
       "      <td>...</td>\n",
       "      <td>...</td>\n",
       "      <td>...</td>\n",
       "      <td>...</td>\n",
       "      <td>...</td>\n",
       "      <td>...</td>\n",
       "      <td>...</td>\n",
       "      <td>...</td>\n",
       "      <td>...</td>\n",
       "      <td>...</td>\n",
       "      <td>...</td>\n",
       "    </tr>\n",
       "    <tr>\n",
       "      <th>89</th>\n",
       "      <td>NaN</td>\n",
       "      <td>NaN</td>\n",
       "      <td>NaN</td>\n",
       "      <td>NaN</td>\n",
       "      <td>NaN</td>\n",
       "      <td>NaN</td>\n",
       "      <td>NaN</td>\n",
       "      <td>NaN</td>\n",
       "      <td>NaN</td>\n",
       "      <td>200247820.0</td>\n",
       "      <td>B</td>\n",
       "      <td>NaN</td>\n",
       "    </tr>\n",
       "    <tr>\n",
       "      <th>90</th>\n",
       "      <td>NaN</td>\n",
       "      <td>NaN</td>\n",
       "      <td>NaN</td>\n",
       "      <td>NaN</td>\n",
       "      <td>NaN</td>\n",
       "      <td>NaN</td>\n",
       "      <td>NaN</td>\n",
       "      <td>NaN</td>\n",
       "      <td>NaN</td>\n",
       "      <td>201032527.0</td>\n",
       "      <td>B</td>\n",
       "      <td>NaN</td>\n",
       "    </tr>\n",
       "    <tr>\n",
       "      <th>91</th>\n",
       "      <td>NaN</td>\n",
       "      <td>NaN</td>\n",
       "      <td>NaN</td>\n",
       "      <td>NaN</td>\n",
       "      <td>NaN</td>\n",
       "      <td>NaN</td>\n",
       "      <td>NaN</td>\n",
       "      <td>NaN</td>\n",
       "      <td>NaN</td>\n",
       "      <td>201067612.0</td>\n",
       "      <td>B</td>\n",
       "      <td>NaN</td>\n",
       "    </tr>\n",
       "    <tr>\n",
       "      <th>92</th>\n",
       "      <td>NaN</td>\n",
       "      <td>NaN</td>\n",
       "      <td>NaN</td>\n",
       "      <td>NaN</td>\n",
       "      <td>NaN</td>\n",
       "      <td>NaN</td>\n",
       "      <td>NaN</td>\n",
       "      <td>NaN</td>\n",
       "      <td>NaN</td>\n",
       "      <td>201067653.0</td>\n",
       "      <td>B</td>\n",
       "      <td>NaN</td>\n",
       "    </tr>\n",
       "    <tr>\n",
       "      <th>93</th>\n",
       "      <td>NaN</td>\n",
       "      <td>NaN</td>\n",
       "      <td>NaN</td>\n",
       "      <td>NaN</td>\n",
       "      <td>NaN</td>\n",
       "      <td>NaN</td>\n",
       "      <td>NaN</td>\n",
       "      <td>NaN</td>\n",
       "      <td>NaN</td>\n",
       "      <td>201067659.0</td>\n",
       "      <td>B</td>\n",
       "      <td>NaN</td>\n",
       "    </tr>\n",
       "  </tbody>\n",
       "</table>\n",
       "<p>94 rows × 12 columns</p>\n",
       "</div>"
      ],
      "text/plain": [
       "    converted_0  converted_1  total_conversions  conversion_rate          rev  \\\n",
       "0        1460.0         78.0             1538.0         0.050715   72820.0000   \n",
       "1        6489.0        314.0             6803.0         0.046156  394974.0035   \n",
       "2           NaN          NaN                NaN              NaN          NaN   \n",
       "3           NaN          NaN                NaN              NaN          NaN   \n",
       "4           NaN          NaN                NaN              NaN          NaN   \n",
       "..          ...          ...                ...              ...          ...   \n",
       "89          NaN          NaN                NaN              NaN          NaN   \n",
       "90          NaN          NaN                NaN              NaN          NaN   \n",
       "91          NaN          NaN                NaN              NaN          NaN   \n",
       "92          NaN          NaN                NaN              NaN          NaN   \n",
       "93          NaN          NaN                NaN              NaN          NaN   \n",
       "\n",
       "     users  paying_users      arpau        arppu           id  grp info  \n",
       "0   1538.0          78.0  47.347204   933.589744          NaN  NaN  NaN  \n",
       "1   6803.0         314.0  58.058798  1257.878992          NaN  NaN  NaN  \n",
       "2      NaN           NaN        NaN          NaN    5694584.0    B  NaN  \n",
       "3      NaN           NaN        NaN          NaN    5694830.0    B  NaN  \n",
       "4      NaN           NaN        NaN          NaN    5695057.0    B  NaN  \n",
       "..     ...           ...        ...          ...          ...  ...  ...  \n",
       "89     NaN           NaN        NaN          NaN  200247820.0    B  NaN  \n",
       "90     NaN           NaN        NaN          NaN  201032527.0    B  NaN  \n",
       "91     NaN           NaN        NaN          NaN  201067612.0    B  NaN  \n",
       "92     NaN           NaN        NaN          NaN  201067653.0    B  NaN  \n",
       "93     NaN           NaN        NaN          NaN  201067659.0    B  NaN  \n",
       "\n",
       "[94 rows x 12 columns]"
      ]
     },
     "execution_count": 120,
     "metadata": {},
     "output_type": "execute_result"
    }
   ],
   "source": [
    "get_groups_add()"
   ]
  },
  {
   "cell_type": "markdown",
   "metadata": {},
   "source": [
    "#### Задача 3.2. Решение"
   ]
  },
  {
   "cell_type": "code",
   "execution_count": 121,
   "metadata": {},
   "outputs": [
    {
     "name": "stderr",
     "output_type": "stream",
     "text": [
      "/tmp/ipykernel_435/3771277740.py:10: FutureWarning: The frame.append method is deprecated and will be removed from pandas in a future version. Use pandas.concat instead.\n",
      "  groups_full = groups_df.append(groups_add_task3)\n"
     ]
    }
   ],
   "source": [
    "f_one_result = get_groups_add()"
   ]
  },
  {
   "cell_type": "code",
   "execution_count": 122,
   "metadata": {},
   "outputs": [],
   "source": [
    "def visuals_total(param):\n",
    "    param = param[['diff%_cr_B-A', 'diff%_ARPU_B-A', 'diff%_ARPPU_B-A', 'diff%_MRPPU_B-A']]\n",
    "    param = (\n",
    "        param.stack()\n",
    "        .to_frame()\n",
    "        .reset_index()\n",
    "        .query('level_0==0')\n",
    "        .rename(columns={'level_0': 'index', 'level_1': 'metric'})\n",
    "    )\n",
    "    param = param.rename(columns={param.columns[2]: 'B_vs_A_%'})\n",
    "    param['A'] = 100 + a_vs_b_deviation['B_vs_A_%']\n",
    "    param['B'] = 100 - a_vs_b_deviation['B_vs_A_%']\n",
    "    param = (\n",
    "        param[['metric', 'A', 'B']].set_index('metric').plot(kind='bar', stacked=False, color=['#4c72b0', '#dd8452'])\n",
    "    )\n",
    "    return param"
   ]
  },
  {
   "cell_type": "markdown",
   "metadata": {},
   "source": [
    "#### Задача 3.2. Результат"
   ]
  },
  {
   "cell_type": "code",
   "execution_count": 123,
   "metadata": {},
   "outputs": [
    {
     "ename": "KeyError",
     "evalue": "\"None of [Index(['diff%_cr_B-A', 'diff%_ARPU_B-A', 'diff%_ARPPU_B-A', 'diff%_MRPPU_B-A'], dtype='object')] are in the [columns]\"",
     "output_type": "error",
     "traceback": [
      "\u001b[0;31m---------------------------------------------------------------------------\u001b[0m",
      "\u001b[0;31mKeyError\u001b[0m                                  Traceback (most recent call last)",
      "Cell \u001b[0;32mIn[123], line 1\u001b[0m\n\u001b[0;32m----> 1\u001b[0m visuals_total(f_one_result)\n",
      "Cell \u001b[0;32mIn[122], line 2\u001b[0m, in \u001b[0;36mvisuals_total\u001b[0;34m(param)\u001b[0m\n\u001b[1;32m      1\u001b[0m \u001b[39mdef\u001b[39;00m \u001b[39mvisuals_total\u001b[39m(param):\n\u001b[0;32m----> 2\u001b[0m     param \u001b[39m=\u001b[39m param[[\u001b[39m'\u001b[39;49m\u001b[39mdiff\u001b[39;49m\u001b[39m%\u001b[39;49m\u001b[39m_cr_B-A\u001b[39;49m\u001b[39m'\u001b[39;49m, \u001b[39m'\u001b[39;49m\u001b[39mdiff\u001b[39;49m\u001b[39m%\u001b[39;49m\u001b[39m_ARPU_B-A\u001b[39;49m\u001b[39m'\u001b[39;49m, \u001b[39m'\u001b[39;49m\u001b[39mdiff\u001b[39;49m\u001b[39m%\u001b[39;49m\u001b[39m_ARPPU_B-A\u001b[39;49m\u001b[39m'\u001b[39;49m, \u001b[39m'\u001b[39;49m\u001b[39mdiff\u001b[39;49m\u001b[39m%\u001b[39;49m\u001b[39m_MRPPU_B-A\u001b[39;49m\u001b[39m'\u001b[39;49m]]\n\u001b[1;32m      3\u001b[0m     param \u001b[39m=\u001b[39m (\n\u001b[1;32m      4\u001b[0m         param\u001b[39m.\u001b[39mstack()\n\u001b[1;32m      5\u001b[0m         \u001b[39m.\u001b[39mto_frame()\n\u001b[0;32m   (...)\u001b[0m\n\u001b[1;32m      8\u001b[0m         \u001b[39m.\u001b[39mrename(columns\u001b[39m=\u001b[39m{\u001b[39m'\u001b[39m\u001b[39mlevel_0\u001b[39m\u001b[39m'\u001b[39m: \u001b[39m'\u001b[39m\u001b[39mindex\u001b[39m\u001b[39m'\u001b[39m, \u001b[39m'\u001b[39m\u001b[39mlevel_1\u001b[39m\u001b[39m'\u001b[39m: \u001b[39m'\u001b[39m\u001b[39mmetric\u001b[39m\u001b[39m'\u001b[39m})\n\u001b[1;32m      9\u001b[0m     )\n\u001b[1;32m     10\u001b[0m     param \u001b[39m=\u001b[39m param\u001b[39m.\u001b[39mrename(columns\u001b[39m=\u001b[39m{param\u001b[39m.\u001b[39mcolumns[\u001b[39m2\u001b[39m]: \u001b[39m'\u001b[39m\u001b[39mB_vs_A_\u001b[39m\u001b[39m%\u001b[39m\u001b[39m'\u001b[39m})\n",
      "File \u001b[0;32m~/projects/AB_test_mechanic_paymentservice/.venv/lib/python3.10/site-packages/pandas/core/frame.py:3813\u001b[0m, in \u001b[0;36mDataFrame.__getitem__\u001b[0;34m(self, key)\u001b[0m\n\u001b[1;32m   3811\u001b[0m     \u001b[39mif\u001b[39;00m is_iterator(key):\n\u001b[1;32m   3812\u001b[0m         key \u001b[39m=\u001b[39m \u001b[39mlist\u001b[39m(key)\n\u001b[0;32m-> 3813\u001b[0m     indexer \u001b[39m=\u001b[39m \u001b[39mself\u001b[39;49m\u001b[39m.\u001b[39;49mcolumns\u001b[39m.\u001b[39;49m_get_indexer_strict(key, \u001b[39m\"\u001b[39;49m\u001b[39mcolumns\u001b[39;49m\u001b[39m\"\u001b[39;49m)[\u001b[39m1\u001b[39m]\n\u001b[1;32m   3815\u001b[0m \u001b[39m# take() does not accept boolean indexers\u001b[39;00m\n\u001b[1;32m   3816\u001b[0m \u001b[39mif\u001b[39;00m \u001b[39mgetattr\u001b[39m(indexer, \u001b[39m\"\u001b[39m\u001b[39mdtype\u001b[39m\u001b[39m\"\u001b[39m, \u001b[39mNone\u001b[39;00m) \u001b[39m==\u001b[39m \u001b[39mbool\u001b[39m:\n",
      "File \u001b[0;32m~/projects/AB_test_mechanic_paymentservice/.venv/lib/python3.10/site-packages/pandas/core/indexes/base.py:6070\u001b[0m, in \u001b[0;36mIndex._get_indexer_strict\u001b[0;34m(self, key, axis_name)\u001b[0m\n\u001b[1;32m   6067\u001b[0m \u001b[39melse\u001b[39;00m:\n\u001b[1;32m   6068\u001b[0m     keyarr, indexer, new_indexer \u001b[39m=\u001b[39m \u001b[39mself\u001b[39m\u001b[39m.\u001b[39m_reindex_non_unique(keyarr)\n\u001b[0;32m-> 6070\u001b[0m \u001b[39mself\u001b[39;49m\u001b[39m.\u001b[39;49m_raise_if_missing(keyarr, indexer, axis_name)\n\u001b[1;32m   6072\u001b[0m keyarr \u001b[39m=\u001b[39m \u001b[39mself\u001b[39m\u001b[39m.\u001b[39mtake(indexer)\n\u001b[1;32m   6073\u001b[0m \u001b[39mif\u001b[39;00m \u001b[39misinstance\u001b[39m(key, Index):\n\u001b[1;32m   6074\u001b[0m     \u001b[39m# GH 42790 - Preserve name from an Index\u001b[39;00m\n",
      "File \u001b[0;32m~/projects/AB_test_mechanic_paymentservice/.venv/lib/python3.10/site-packages/pandas/core/indexes/base.py:6130\u001b[0m, in \u001b[0;36mIndex._raise_if_missing\u001b[0;34m(self, key, indexer, axis_name)\u001b[0m\n\u001b[1;32m   6128\u001b[0m     \u001b[39mif\u001b[39;00m use_interval_msg:\n\u001b[1;32m   6129\u001b[0m         key \u001b[39m=\u001b[39m \u001b[39mlist\u001b[39m(key)\n\u001b[0;32m-> 6130\u001b[0m     \u001b[39mraise\u001b[39;00m \u001b[39mKeyError\u001b[39;00m(\u001b[39mf\u001b[39m\u001b[39m\"\u001b[39m\u001b[39mNone of [\u001b[39m\u001b[39m{\u001b[39;00mkey\u001b[39m}\u001b[39;00m\u001b[39m] are in the [\u001b[39m\u001b[39m{\u001b[39;00maxis_name\u001b[39m}\u001b[39;00m\u001b[39m]\u001b[39m\u001b[39m\"\u001b[39m)\n\u001b[1;32m   6132\u001b[0m not_found \u001b[39m=\u001b[39m \u001b[39mlist\u001b[39m(ensure_index(key)[missing_mask\u001b[39m.\u001b[39mnonzero()[\u001b[39m0\u001b[39m]]\u001b[39m.\u001b[39munique())\n\u001b[1;32m   6133\u001b[0m \u001b[39mraise\u001b[39;00m \u001b[39mKeyError\u001b[39;00m(\u001b[39mf\u001b[39m\u001b[39m\"\u001b[39m\u001b[39m{\u001b[39;00mnot_found\u001b[39m}\u001b[39;00m\u001b[39m not in index\u001b[39m\u001b[39m\"\u001b[39m)\n",
      "\u001b[0;31mKeyError\u001b[0m: \"None of [Index(['diff%_cr_B-A', 'diff%_ARPU_B-A', 'diff%_ARPPU_B-A', 'diff%_MRPPU_B-A'], dtype='object')] are in the [columns]\""
     ]
    }
   ],
   "source": [
    "visuals_total(f_one_result)"
   ]
  }
 ],
 "metadata": {
  "kernelspec": {
   "display_name": ".venv",
   "language": "python",
   "name": "python3"
  },
  "language_info": {
   "codemirror_mode": {
    "name": "ipython",
    "version": 3
   },
   "file_extension": ".py",
   "mimetype": "text/x-python",
   "name": "python",
   "nbconvert_exporter": "python",
   "pygments_lexer": "ipython3",
   "version": "3.10.6"
  },
  "vscode": {
   "interpreter": {
    "hash": "a171c6c3d4695e6339d0c802e180de600f49ab3e58c866ff18b746d8231d3e12"
   }
  }
 },
 "nbformat": 4,
 "nbformat_minor": 4
}
